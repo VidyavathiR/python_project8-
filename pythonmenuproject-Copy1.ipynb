{
 "cells": [
  {
   "cell_type": "code",
   "execution_count": 1,
   "id": "5c4717eb",
   "metadata": {},
   "outputs": [],
   "source": [
    "from tkinter import *\n",
    "from tkinter import messagebox\n",
    "import os   \n",
    "import pywhatkit\n",
    "import smtplib\n",
    "from geopy.geocoders import Nominatim\n",
    "from twilio.rest import Client\n"
   ]
  },
  {
   "cell_type": "code",
   "execution_count": 2,
   "id": "0c6e0447",
   "metadata": {},
   "outputs": [
    {
     "data": {
      "text/plain": [
       "''"
      ]
     },
     "execution_count": 2,
     "metadata": {},
     "output_type": "execute_result"
    }
   ],
   "source": [
    "rt=Tk()\n",
    "rt.geometry('600x600')\n",
    "rt.configfrom tkinter import *\n",
    "from tkinter import messagebox\n",
    "ure(bg='#17202A')\n",
    "rt.title('Python project')\n",
    "rt.resizable(0,0)"
   ]
  },
  {
   "cell_type": "code",
   "execution_count": 5,
   "id": "464ca3e5",
   "metadata": {},
   "outputs": [],
   "source": [
    "def note_pad():\n",
    "    os.system(\"notepad\")"
   ]
  },
  {
   "cell_type": "code",
   "execution_count": null,
   "id": "6c5f76f4",
   "metadata": {},
   "outputs": [],
   "source": []
  },
  {
   "cell_type": "code",
   "execution_count": 6,
   "id": "0ef152a2",
   "metadata": {},
   "outputs": [],
   "source": [
    "def chrome():\n",
    "    os.system(\"chrome\")"
   ]
  },
  {
   "cell_type": "code",
   "execution_count": null,
   "id": "a5957bfb",
   "metadata": {},
   "outputs": [],
   "source": []
  },
  {
   "cell_type": "code",
   "execution_count": null,
   "id": "bd07ef58",
   "metadata": {},
   "outputs": [],
   "source": [
    "def control_panel():\n",
    "    os.system(\"control\")"
   ]
  },
  {
   "cell_type": "code",
   "execution_count": null,
   "id": "af9edf12",
   "metadata": {},
   "outputs": [],
   "source": []
  },
  {
   "cell_type": "code",
   "execution_count": 7,
   "id": "a3f308f1",
   "metadata": {},
   "outputs": [],
   "source": []
  },
  {
   "cell_type": "code",
   "execution_count": 8,
   "id": "0d7789fb",
   "metadata": {},
   "outputs": [],
   "source": [
    "def send_watapp_msg():\n",
    "    phoneno=input(\"Enter your phone number with country code\" )\n",
    "    msg=input(\"Enter the message you want to send\")\n",
    "    #hr=input(\"Enter the time \\(hour\\)\")\n",
    "   # minut=input(\"Enter the time\\(min\\)\")\n",
    "  \n",
    "    pywhatkit.sendwhatmsg(phoneno,msg,6,31)"
   ]
  },
  {
   "cell_type": "code",
   "execution_count": null,
   "id": "7d732326",
   "metadata": {},
   "outputs": [],
   "source": []
  },
  {
   "cell_type": "code",
   "execution_count": 9,
   "id": "5268e1e4",
   "metadata": {},
   "outputs": [],
   "source": [
    "\n",
    "\n",
    "def geo():\n",
    "    loc = Nominatim(user_agent=\"GetLoc\")\n",
    "    getLoc = loc.geocode(input(\"enter your location \\n\"))\n",
    "\n",
    "    print(getLoc.address,\"\\n\")\n",
    "    print(\"Latitude = \", getLoc.latitude, \"\\n\")\n",
    "    print(\"Longitude = \", getLoc.longitude)\n"
   ]
  },
  {
   "cell_type": "code",
   "execution_count": null,
   "id": "c492c16d",
   "metadata": {},
   "outputs": [],
   "source": []
  },
  {
   "cell_type": "code",
   "execution_count": 10,
   "id": "1f3c2eb4",
   "metadata": {},
   "outputs": [],
   "source": []
  },
  {
   "cell_type": "code",
   "execution_count": 11,
   "id": "ad0082b6",
   "metadata": {},
   "outputs": [],
   "source": [
    "def email():\n",
    "    sender_mail = input(\"enter sender email\")   \n",
    "    receivers_mail = input(\"enter reciever email\")\n",
    "    message =\"hi......\"   \n",
    "    try:    \n",
    "        password = input(\"enter two step verification-password of sender\\'s mail\")\n",
    "    \n",
    "        obj = smtplib.SMTP('smtp.gmail.com',587) \n",
    "        obj.ehlo()\n",
    "        obj.starttls()\n",
    "        obj.login(sender_mail,password)    \n",
    "        obj.sendmail(sender_mail, receivers_mail, message)    \n",
    "        print(\"Successfully sent email\")    \n",
    "    except Exception:    \n",
    "        print(\"Error: unable to send email\") "
   ]
  },
  {
   "cell_type": "code",
   "execution_count": null,
   "id": "dc4cebd3",
   "metadata": {},
   "outputs": [],
   "source": []
  },
  {
   "cell_type": "code",
   "execution_count": 12,
   "id": "3a36f5ca",
   "metadata": {},
   "outputs": [],
   "source": []
  },
  {
   "cell_type": "code",
   "execution_count": 13,
   "id": "f3bec358",
   "metadata": {},
   "outputs": [],
   "source": [
    "account_sid = '**********************'\n",
    "auth_token = '******************'\n",
    "twilio_phone_number = '+**********'  # Should be in the format '+1234567890'"
   ]
  },
  {
   "cell_type": "code",
   "execution_count": 14,
   "id": "4a52f4d5",
   "metadata": {},
   "outputs": [
    {
     "ename": "NameError",
     "evalue": "name 'send_sms' is not defined",
     "output_type": "error",
     "traceback": [
      "\u001b[1;31m---------------------------------------------------------------------------\u001b[0m",
      "\u001b[1;31mNameError\u001b[0m                                 Traceback (most recent call last)",
      "Cell \u001b[1;32mIn[14], line 22\u001b[0m\n\u001b[0;32m     20\u001b[0m recipient_phone_number \u001b[38;5;241m=\u001b[39m \u001b[38;5;124m'\u001b[39m\u001b[38;5;124m+91**********\u001b[39m\u001b[38;5;124m'\u001b[39m  \u001b[38;5;66;03m# Replace with the recipient's phone number\u001b[39;00m\n\u001b[0;32m     21\u001b[0m text_message \u001b[38;5;241m=\u001b[39m \u001b[38;5;124m\"\u001b[39m\u001b[38;5;124mHello from Twilio! This is a test message.\u001b[39m\u001b[38;5;124m\"\u001b[39m\n\u001b[1;32m---> 22\u001b[0m send_sms(recipient_phone_number, text_message)\n",
      "\u001b[1;31mNameError\u001b[0m: name 'send_sms' is not defined"
     ]
    }
   ],
   "source": [
    "def sms():\n",
    "    account_sid = '**********************'\n",
    "    auth_token = '******************'\n",
    "    twilio_phone_number = '+**********'  # Should be in the format '+1234567890'\n",
    "    def send_sms(to_phone_number, message):\n",
    "        client = Client(account_sid, auth_token)\n",
    "    \n",
    "        try:\n",
    "            message = client.messages.create(\n",
    "            body=message,\n",
    "            from_=twilio_phone_number,\n",
    "            to=to_phone_number\n",
    "            )\n",
    "            print(f\"SMS sent successfully. SID: {message.sid}\")\n",
    "        except Exception as e:\n",
    "            print(f\"Failed to send SMS: {e}\")\n",
    "\n",
    "# Example usage:\n",
    "if __name__ == \"__main__\":\n",
    "    recipient_phone_number = '+91**********'  # Replace with the recipient's phone number\n",
    "    text_message = \"Hello from Twilio! This is a test message.\"\n",
    "    send_sms(recipient_phone_number, text_message)"
   ]
  },
  {
   "cell_type": "code",
   "execution_count": null,
   "id": "6c4a25e9",
   "metadata": {},
   "outputs": [],
   "source": []
  },
  {
   "cell_type": "code",
   "execution_count": 15,
   "id": "436e6bdc",
   "metadata": {},
   "outputs": [],
   "source": [
    "Button(rt,text=\" Notepad\", font='Helvetica 18 bold',bg='#FDFEFE', command = note_pad, padx=20, relief='sunken',width=7). place(x= 250, y=140)\n",
    "Button(rt,text=\"Chrome\", font='Helvetica 18 bold',bg='#FDFEFE',command =chrome, padx=20, relief='sunken',width=7).place(x= 250, y=200)\n",
    "Button(rt,text=\"watsapp\", font='Helvetica 18 bold',bg='#FDFEFE',command =  send_watapp_msg, padx=20, relief='sunken',width=7).place(x= 250, y=260)\n",
    "Button(rt,text=\"geolocation\", font='Helvetica 18 bold',bg='#FDFEFE', command = geo, relief='sunken',width=10).place(x= 250, y=325)\n",
    "Button(rt,text=\"Email\", font='Helvetica 18 bold',bg='#FDFEFE', command = email, relief='sunken',width=10).place(x= 250, y=390)\n",
    "Button(rt,text=\"SMS\", font='Helvetica 24 bold',bg='#FDFEFE', command = sms, relief='groove',width=10).place(x=250, y=450)\n",
    "Button(rt,text=\"controlpanel\", font='Helvetica 24 bold',bg='#FDFEFE', command = control_panel, relief='groove',width=10).place(x=250, y=520)\n",
    "\n",
    "\n",
    "\n",
    "\n"
   ]
  },
  {
   "cell_type": "code",
   "execution_count": null,
   "id": "e0df51f6",
   "metadata": {},
   "outputs": [],
   "source": [
    "\n",
    "rt.mainloop()      \n"
   ]
  },
  {
   "cell_type": "code",
   "execution_count": null,
   "id": "5feed5ed",
   "metadata": {},
   "outputs": [],
   "source": []
  }
 ],
 "metadata": {
  "kernelspec": {
   "display_name": "Python 3 (ipykernel)",
   "language": "python",
   "name": "python3"
  },
  "language_info": {
   "codemirror_mode": {
    "name": "ipython",
    "version": 3
   },
   "file_extension": ".py",
   "mimetype": "text/x-python",
   "name": "python",
   "nbconvert_exporter": "python",
   "pygments_lexer": "ipython3",
   "version": "3.11.4"
  }
 },
 "nbformat": 4,
 "nbformat_minor": 5
}
